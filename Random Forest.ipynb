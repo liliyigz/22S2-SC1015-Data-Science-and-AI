{
 "cells": [
  {
   "cell_type": "markdown",
   "id": "06ce0eab",
   "metadata": {},
   "source": [
    "<h1>Random Forest</h1>\n",
    "\n",
    "Random Forest is a machine learning tool that takes random data points from random variables to come up with multiple decision trees. The output of each tree is then combined to make a final prediction, resulting in more accurate models. \n",
    "\n",
    "Since our cleaned data set has over 70,000 data points including 4 numeric and 7 categorical variables, Random Forest is a suitable algorithm as it can analyse large datasets with many features and high dimensionality. Additionally, Random Forest avoids the problem of overfitting by using multiple decision trees which improves the generalisation ability of the model. Finally, Random Forest can handle a mix of categorical and numerical data which suits our data set specifically, helping to improve the accuracy of our predictions."
   ]
  },
  {
   "cell_type": "code",
   "execution_count": 1,
   "id": "c42a73fa",
   "metadata": {},
   "outputs": [],
   "source": [
    "# Basic Libraries\n",
    "import numpy as np\n",
    "import pandas as pd\n",
    "import seaborn as sb\n",
    "import matplotlib as mpl\n",
    "import matplotlib.pyplot as plt\n",
    "from sklearn.metrics import confusion_matrix\n",
    "sb.set() # set the default Seaborn style for graphics"
   ]
  },
  {
   "cell_type": "code",
   "execution_count": 2,
   "id": "e1050ab3",
   "metadata": {},
   "outputs": [
    {
     "data": {
      "text/html": [
       "<div>\n",
       "<style scoped>\n",
       "    .dataframe tbody tr th:only-of-type {\n",
       "        vertical-align: middle;\n",
       "    }\n",
       "\n",
       "    .dataframe tbody tr th {\n",
       "        vertical-align: top;\n",
       "    }\n",
       "\n",
       "    .dataframe thead th {\n",
       "        text-align: right;\n",
       "    }\n",
       "</style>\n",
       "<table border=\"1\" class=\"dataframe\">\n",
       "  <thead>\n",
       "    <tr style=\"text-align: right;\">\n",
       "      <th></th>\n",
       "      <th>Unnamed: 0</th>\n",
       "      <th>_TOTINDA</th>\n",
       "      <th>_BMI5</th>\n",
       "      <th>DROCDY3_</th>\n",
       "      <th>AVEDRNK3</th>\n",
       "      <th>_RFBING5</th>\n",
       "      <th>CHOLMED3</th>\n",
       "      <th>FRENCHF1</th>\n",
       "      <th>FRUTDA2_</th>\n",
       "      <th>FTJUDA2_</th>\n",
       "      <th>...</th>\n",
       "      <th>_RFCHOL3</th>\n",
       "      <th>_MICHD</th>\n",
       "      <th>_EDUCAG</th>\n",
       "      <th>_CASTHM1</th>\n",
       "      <th>_RFSMOK3</th>\n",
       "      <th>_DRDXAR3</th>\n",
       "      <th>_IMPRACE</th>\n",
       "      <th>_AGE80</th>\n",
       "      <th>AlchoIntake</th>\n",
       "      <th>FriesFreq</th>\n",
       "    </tr>\n",
       "  </thead>\n",
       "  <tbody>\n",
       "    <tr>\n",
       "      <th>0</th>\n",
       "      <td>3</td>\n",
       "      <td>Yes</td>\n",
       "      <td>33.47</td>\n",
       "      <td>14.0</td>\n",
       "      <td>3.0</td>\n",
       "      <td>Yes</td>\n",
       "      <td>No</td>\n",
       "      <td>204.0</td>\n",
       "      <td>0.43</td>\n",
       "      <td>0.71</td>\n",
       "      <td>...</td>\n",
       "      <td>Yes</td>\n",
       "      <td>No</td>\n",
       "      <td>Graduated High School</td>\n",
       "      <td>No</td>\n",
       "      <td>No</td>\n",
       "      <td>No</td>\n",
       "      <td>White</td>\n",
       "      <td>62.0</td>\n",
       "      <td>2.94</td>\n",
       "      <td>0.571429</td>\n",
       "    </tr>\n",
       "    <tr>\n",
       "      <th>1</th>\n",
       "      <td>9</td>\n",
       "      <td>Yes</td>\n",
       "      <td>39.94</td>\n",
       "      <td>10.0</td>\n",
       "      <td>2.0</td>\n",
       "      <td>No</td>\n",
       "      <td>Yes</td>\n",
       "      <td>202.0</td>\n",
       "      <td>1.00</td>\n",
       "      <td>0.00</td>\n",
       "      <td>...</td>\n",
       "      <td>No</td>\n",
       "      <td>No</td>\n",
       "      <td>Graduated High School</td>\n",
       "      <td>No</td>\n",
       "      <td>No</td>\n",
       "      <td>Yes</td>\n",
       "      <td>White</td>\n",
       "      <td>65.0</td>\n",
       "      <td>1.40</td>\n",
       "      <td>0.285714</td>\n",
       "    </tr>\n",
       "    <tr>\n",
       "      <th>2</th>\n",
       "      <td>22</td>\n",
       "      <td>No</td>\n",
       "      <td>35.87</td>\n",
       "      <td>13.0</td>\n",
       "      <td>2.0</td>\n",
       "      <td>No</td>\n",
       "      <td>Yes</td>\n",
       "      <td>304.0</td>\n",
       "      <td>0.07</td>\n",
       "      <td>0.03</td>\n",
       "      <td>...</td>\n",
       "      <td>Yes</td>\n",
       "      <td>No</td>\n",
       "      <td>Graduated High School</td>\n",
       "      <td>No</td>\n",
       "      <td>Yes</td>\n",
       "      <td>No</td>\n",
       "      <td>White</td>\n",
       "      <td>68.0</td>\n",
       "      <td>1.82</td>\n",
       "      <td>0.133333</td>\n",
       "    </tr>\n",
       "    <tr>\n",
       "      <th>3</th>\n",
       "      <td>49</td>\n",
       "      <td>Yes</td>\n",
       "      <td>22.24</td>\n",
       "      <td>3.0</td>\n",
       "      <td>1.0</td>\n",
       "      <td>No</td>\n",
       "      <td>Yes</td>\n",
       "      <td>201.0</td>\n",
       "      <td>0.43</td>\n",
       "      <td>0.00</td>\n",
       "      <td>...</td>\n",
       "      <td>Yes</td>\n",
       "      <td>Yes</td>\n",
       "      <td>Graduated High School</td>\n",
       "      <td>No</td>\n",
       "      <td>No</td>\n",
       "      <td>Yes</td>\n",
       "      <td>White</td>\n",
       "      <td>77.0</td>\n",
       "      <td>0.21</td>\n",
       "      <td>0.142857</td>\n",
       "    </tr>\n",
       "    <tr>\n",
       "      <th>4</th>\n",
       "      <td>61</td>\n",
       "      <td>Yes</td>\n",
       "      <td>27.84</td>\n",
       "      <td>10.0</td>\n",
       "      <td>2.0</td>\n",
       "      <td>Yes</td>\n",
       "      <td>No</td>\n",
       "      <td>307.0</td>\n",
       "      <td>1.00</td>\n",
       "      <td>0.10</td>\n",
       "      <td>...</td>\n",
       "      <td>No</td>\n",
       "      <td>No</td>\n",
       "      <td>Graduated from College or Technical School</td>\n",
       "      <td>No</td>\n",
       "      <td>No</td>\n",
       "      <td>No</td>\n",
       "      <td>White</td>\n",
       "      <td>58.0</td>\n",
       "      <td>1.40</td>\n",
       "      <td>0.233333</td>\n",
       "    </tr>\n",
       "  </tbody>\n",
       "</table>\n",
       "<p>5 rows × 25 columns</p>\n",
       "</div>"
      ],
      "text/plain": [
       "   Unnamed: 0 _TOTINDA  _BMI5  DROCDY3_  AVEDRNK3 _RFBING5 CHOLMED3  FRENCHF1  \\\n",
       "0           3      Yes  33.47      14.0       3.0      Yes       No     204.0   \n",
       "1           9      Yes  39.94      10.0       2.0       No      Yes     202.0   \n",
       "2          22       No  35.87      13.0       2.0       No      Yes     304.0   \n",
       "3          49      Yes  22.24       3.0       1.0       No      Yes     201.0   \n",
       "4          61      Yes  27.84      10.0       2.0      Yes       No     307.0   \n",
       "\n",
       "   FRUTDA2_  FTJUDA2_  ...  _RFCHOL3  _MICHD  \\\n",
       "0      0.43      0.71  ...       Yes      No   \n",
       "1      1.00      0.00  ...        No      No   \n",
       "2      0.07      0.03  ...       Yes      No   \n",
       "3      0.43      0.00  ...       Yes     Yes   \n",
       "4      1.00      0.10  ...        No      No   \n",
       "\n",
       "                                      _EDUCAG _CASTHM1 _RFSMOK3 _DRDXAR3  \\\n",
       "0                       Graduated High School       No       No       No   \n",
       "1                       Graduated High School       No       No      Yes   \n",
       "2                       Graduated High School       No      Yes       No   \n",
       "3                       Graduated High School       No       No      Yes   \n",
       "4  Graduated from College or Technical School       No       No       No   \n",
       "\n",
       "  _IMPRACE _AGE80 AlchoIntake FriesFreq  \n",
       "0    White   62.0        2.94  0.571429  \n",
       "1    White   65.0        1.40  0.285714  \n",
       "2    White   68.0        1.82  0.133333  \n",
       "3    White   77.0        0.21  0.142857  \n",
       "4    White   58.0        1.40  0.233333  \n",
       "\n",
       "[5 rows x 25 columns]"
      ]
     },
     "execution_count": 2,
     "metadata": {},
     "output_type": "execute_result"
    }
   ],
   "source": [
    "# Loading cleaned data set\n",
    "hypertension = pd.read_csv('hypertension.csv')\n",
    "hypertension.head()"
   ]
  },
  {
   "cell_type": "markdown",
   "id": "e983c69a",
   "metadata": {},
   "source": [
    "<h1>Variables</h1>\n",
    "\n",
    "From our Exploratory Data Analysis, a total of 4 numeric and 7 categorical variables that are significantly correlated with hypertension were identified. For Random Forest, categorical values (strings) have to be converted into numerical values to be processed."
   ]
  },
  {
   "cell_type": "code",
   "execution_count": 3,
   "id": "80d2cccc",
   "metadata": {},
   "outputs": [
    {
     "data": {
      "text/html": [
       "<div>\n",
       "<style scoped>\n",
       "    .dataframe tbody tr th:only-of-type {\n",
       "        vertical-align: middle;\n",
       "    }\n",
       "\n",
       "    .dataframe tbody tr th {\n",
       "        vertical-align: top;\n",
       "    }\n",
       "\n",
       "    .dataframe thead th {\n",
       "        text-align: right;\n",
       "    }\n",
       "</style>\n",
       "<table border=\"1\" class=\"dataframe\">\n",
       "  <thead>\n",
       "    <tr style=\"text-align: right;\">\n",
       "      <th></th>\n",
       "      <th>_TOTINDA</th>\n",
       "      <th>_BMI5</th>\n",
       "      <th>AlchoIntake</th>\n",
       "      <th>CHOLMED3</th>\n",
       "      <th>_RFHYPE6</th>\n",
       "      <th>DIABETE4</th>\n",
       "      <th>_RFCHOL3</th>\n",
       "      <th>_MICHD</th>\n",
       "      <th>_EDUCAG</th>\n",
       "      <th>_DRDXAR3</th>\n",
       "      <th>_AGE80</th>\n",
       "    </tr>\n",
       "  </thead>\n",
       "  <tbody>\n",
       "    <tr>\n",
       "      <th>0</th>\n",
       "      <td>Yes</td>\n",
       "      <td>33.47</td>\n",
       "      <td>2.94</td>\n",
       "      <td>No</td>\n",
       "      <td>Yes</td>\n",
       "      <td>Yes</td>\n",
       "      <td>Yes</td>\n",
       "      <td>No</td>\n",
       "      <td>Graduated High School</td>\n",
       "      <td>No</td>\n",
       "      <td>62.0</td>\n",
       "    </tr>\n",
       "    <tr>\n",
       "      <th>1</th>\n",
       "      <td>Yes</td>\n",
       "      <td>39.94</td>\n",
       "      <td>1.40</td>\n",
       "      <td>Yes</td>\n",
       "      <td>Yes</td>\n",
       "      <td>No</td>\n",
       "      <td>No</td>\n",
       "      <td>No</td>\n",
       "      <td>Graduated High School</td>\n",
       "      <td>Yes</td>\n",
       "      <td>65.0</td>\n",
       "    </tr>\n",
       "    <tr>\n",
       "      <th>2</th>\n",
       "      <td>No</td>\n",
       "      <td>35.87</td>\n",
       "      <td>1.82</td>\n",
       "      <td>Yes</td>\n",
       "      <td>Yes</td>\n",
       "      <td>No</td>\n",
       "      <td>Yes</td>\n",
       "      <td>No</td>\n",
       "      <td>Graduated High School</td>\n",
       "      <td>No</td>\n",
       "      <td>68.0</td>\n",
       "    </tr>\n",
       "    <tr>\n",
       "      <th>3</th>\n",
       "      <td>Yes</td>\n",
       "      <td>22.24</td>\n",
       "      <td>0.21</td>\n",
       "      <td>Yes</td>\n",
       "      <td>Yes</td>\n",
       "      <td>Yes</td>\n",
       "      <td>Yes</td>\n",
       "      <td>Yes</td>\n",
       "      <td>Graduated High School</td>\n",
       "      <td>Yes</td>\n",
       "      <td>77.0</td>\n",
       "    </tr>\n",
       "    <tr>\n",
       "      <th>4</th>\n",
       "      <td>Yes</td>\n",
       "      <td>27.84</td>\n",
       "      <td>1.40</td>\n",
       "      <td>No</td>\n",
       "      <td>No</td>\n",
       "      <td>No</td>\n",
       "      <td>No</td>\n",
       "      <td>No</td>\n",
       "      <td>Graduated from College or Technical School</td>\n",
       "      <td>No</td>\n",
       "      <td>58.0</td>\n",
       "    </tr>\n",
       "  </tbody>\n",
       "</table>\n",
       "</div>"
      ],
      "text/plain": [
       "  _TOTINDA  _BMI5  AlchoIntake CHOLMED3 _RFHYPE6 DIABETE4 _RFCHOL3 _MICHD  \\\n",
       "0      Yes  33.47         2.94       No      Yes      Yes      Yes     No   \n",
       "1      Yes  39.94         1.40      Yes      Yes       No       No     No   \n",
       "2       No  35.87         1.82      Yes      Yes       No      Yes     No   \n",
       "3      Yes  22.24         0.21      Yes      Yes      Yes      Yes    Yes   \n",
       "4      Yes  27.84         1.40       No       No       No       No     No   \n",
       "\n",
       "                                      _EDUCAG _DRDXAR3  _AGE80  \n",
       "0                       Graduated High School       No    62.0  \n",
       "1                       Graduated High School      Yes    65.0  \n",
       "2                       Graduated High School       No    68.0  \n",
       "3                       Graduated High School      Yes    77.0  \n",
       "4  Graduated from College or Technical School       No    58.0  "
      ]
     },
     "execution_count": 3,
     "metadata": {},
     "output_type": "execute_result"
    }
   ],
   "source": [
    "# Creating dataframe with only significant independent variables\n",
    "hypertension_dataset = pd.DataFrame(hypertension[['_TOTINDA','_BMI5','AlchoIntake','CHOLMED3','_RFHYPE6','DIABETE4','_RFCHOL3','_MICHD','_EDUCAG','_DRDXAR3','_AGE80']])\n",
    "hypertension_dataset.head()"
   ]
  },
  {
   "cell_type": "code",
   "execution_count": 4,
   "id": "7e05e867",
   "metadata": {},
   "outputs": [],
   "source": [
    "# Changing categorical 'yes'/'no' to numeric values for Random Forest\n",
    "hypertension_dataset.replace(\"Yes\", 1, inplace = True)\n",
    "hypertension_dataset.replace(\"No\", 0, inplace = True)\n",
    "\n",
    "# Decode _EDUCAG, Education Level\n",
    "hypertension_dataset.replace(\"Did not graduate High School\", 1, inplace = True)\n",
    "hypertension_dataset.replace(\"Graduated High School\", 2, inplace = True)\n",
    "hypertension_dataset.replace(\"Attended College or Technical School\", 3, inplace = True)\n",
    "hypertension_dataset.replace(\"Graduated from College or Technical School\", 4, inplace = True)"
   ]
  },
  {
   "cell_type": "code",
   "execution_count": 5,
   "id": "7a3851fd",
   "metadata": {},
   "outputs": [
    {
     "data": {
      "text/html": [
       "<div>\n",
       "<style scoped>\n",
       "    .dataframe tbody tr th:only-of-type {\n",
       "        vertical-align: middle;\n",
       "    }\n",
       "\n",
       "    .dataframe tbody tr th {\n",
       "        vertical-align: top;\n",
       "    }\n",
       "\n",
       "    .dataframe thead th {\n",
       "        text-align: right;\n",
       "    }\n",
       "</style>\n",
       "<table border=\"1\" class=\"dataframe\">\n",
       "  <thead>\n",
       "    <tr style=\"text-align: right;\">\n",
       "      <th></th>\n",
       "      <th>_TOTINDA</th>\n",
       "      <th>_BMI5</th>\n",
       "      <th>AlchoIntake</th>\n",
       "      <th>CHOLMED3</th>\n",
       "      <th>_RFHYPE6</th>\n",
       "      <th>DIABETE4</th>\n",
       "      <th>_RFCHOL3</th>\n",
       "      <th>_MICHD</th>\n",
       "      <th>_EDUCAG</th>\n",
       "      <th>_DRDXAR3</th>\n",
       "      <th>_AGE80</th>\n",
       "    </tr>\n",
       "  </thead>\n",
       "  <tbody>\n",
       "    <tr>\n",
       "      <th>0</th>\n",
       "      <td>1</td>\n",
       "      <td>33.47</td>\n",
       "      <td>2.94</td>\n",
       "      <td>0</td>\n",
       "      <td>1</td>\n",
       "      <td>1</td>\n",
       "      <td>1</td>\n",
       "      <td>0</td>\n",
       "      <td>2</td>\n",
       "      <td>0</td>\n",
       "      <td>62.0</td>\n",
       "    </tr>\n",
       "    <tr>\n",
       "      <th>1</th>\n",
       "      <td>1</td>\n",
       "      <td>39.94</td>\n",
       "      <td>1.40</td>\n",
       "      <td>1</td>\n",
       "      <td>1</td>\n",
       "      <td>0</td>\n",
       "      <td>0</td>\n",
       "      <td>0</td>\n",
       "      <td>2</td>\n",
       "      <td>1</td>\n",
       "      <td>65.0</td>\n",
       "    </tr>\n",
       "    <tr>\n",
       "      <th>2</th>\n",
       "      <td>0</td>\n",
       "      <td>35.87</td>\n",
       "      <td>1.82</td>\n",
       "      <td>1</td>\n",
       "      <td>1</td>\n",
       "      <td>0</td>\n",
       "      <td>1</td>\n",
       "      <td>0</td>\n",
       "      <td>2</td>\n",
       "      <td>0</td>\n",
       "      <td>68.0</td>\n",
       "    </tr>\n",
       "    <tr>\n",
       "      <th>3</th>\n",
       "      <td>1</td>\n",
       "      <td>22.24</td>\n",
       "      <td>0.21</td>\n",
       "      <td>1</td>\n",
       "      <td>1</td>\n",
       "      <td>1</td>\n",
       "      <td>1</td>\n",
       "      <td>1</td>\n",
       "      <td>2</td>\n",
       "      <td>1</td>\n",
       "      <td>77.0</td>\n",
       "    </tr>\n",
       "    <tr>\n",
       "      <th>4</th>\n",
       "      <td>1</td>\n",
       "      <td>27.84</td>\n",
       "      <td>1.40</td>\n",
       "      <td>0</td>\n",
       "      <td>0</td>\n",
       "      <td>0</td>\n",
       "      <td>0</td>\n",
       "      <td>0</td>\n",
       "      <td>4</td>\n",
       "      <td>0</td>\n",
       "      <td>58.0</td>\n",
       "    </tr>\n",
       "  </tbody>\n",
       "</table>\n",
       "</div>"
      ],
      "text/plain": [
       "   _TOTINDA  _BMI5  AlchoIntake  CHOLMED3  _RFHYPE6  DIABETE4  _RFCHOL3  \\\n",
       "0         1  33.47         2.94         0         1         1         1   \n",
       "1         1  39.94         1.40         1         1         0         0   \n",
       "2         0  35.87         1.82         1         1         0         1   \n",
       "3         1  22.24         0.21         1         1         1         1   \n",
       "4         1  27.84         1.40         0         0         0         0   \n",
       "\n",
       "   _MICHD  _EDUCAG  _DRDXAR3  _AGE80  \n",
       "0       0        2         0    62.0  \n",
       "1       0        2         1    65.0  \n",
       "2       0        2         0    68.0  \n",
       "3       1        2         1    77.0  \n",
       "4       0        4         0    58.0  "
      ]
     },
     "execution_count": 5,
     "metadata": {},
     "output_type": "execute_result"
    }
   ],
   "source": [
    "# Check if variable data has been changed\n",
    "hypertension_dataset.head()"
   ]
  },
  {
   "cell_type": "code",
   "execution_count": 6,
   "id": "1f43aa09",
   "metadata": {},
   "outputs": [
    {
     "name": "stdout",
     "output_type": "stream",
     "text": [
      "<class 'pandas.core.frame.DataFrame'>\n",
      "RangeIndex: 76825 entries, 0 to 76824\n",
      "Data columns (total 11 columns):\n",
      " #   Column       Non-Null Count  Dtype  \n",
      "---  ------       --------------  -----  \n",
      " 0   _TOTINDA     76825 non-null  int64  \n",
      " 1   _BMI5        76825 non-null  float64\n",
      " 2   AlchoIntake  76825 non-null  float64\n",
      " 3   CHOLMED3     76825 non-null  int64  \n",
      " 4   _RFHYPE6     76825 non-null  int64  \n",
      " 5   DIABETE4     76825 non-null  int64  \n",
      " 6   _RFCHOL3     76825 non-null  int64  \n",
      " 7   _MICHD       76825 non-null  int64  \n",
      " 8   _EDUCAG      76825 non-null  int64  \n",
      " 9   _DRDXAR3     76825 non-null  int64  \n",
      " 10  _AGE80       76825 non-null  float64\n",
      "dtypes: float64(3), int64(8)\n",
      "memory usage: 6.4 MB\n"
     ]
    }
   ],
   "source": [
    "# Checking if all variables are type int or float\n",
    "hypertension_dataset.info()"
   ]
  },
  {
   "cell_type": "code",
   "execution_count": 7,
   "id": "246dc10e",
   "metadata": {},
   "outputs": [],
   "source": [
    "# Rename the reponse variable column to \"Hypertension\" to make it more intuitive\n",
    "hypertension_dataset.rename(columns={\"_RFHYPE6\": \"Hypertension\"}, inplace=True) \n",
    "\n",
    "# Isolate dependent variable to fit into the model\n",
    "labels = hypertension_dataset.pop(\"Hypertension\")"
   ]
  },
  {
   "cell_type": "markdown",
   "id": "3e52cbb5",
   "metadata": {},
   "source": [
    "<h1>Train and Test Set</h1>\n",
    "\n",
    "Our data set will be randomly split into two sets with 75% of the data forming the train set and the remaining 25% forming the test set.\n",
    "\n",
    "The train set will be fitted into the parameters of Random Forest where the coefficients of the model are adjusted to minimise the difference between the predicted and the actual values for hypertension based on the given independent variables.\n",
    "\n",
    "The test set is then used to evaluate the performance of the trained model to simulate how well the model can make predictions for hypertension on new and unseen data.\n",
    "\n",
    "The train and test sets are kept completely separate to avoid overfitting the model to the train data. Overfitting occurs when the model makes predictions based on memory of data in the train set rather than trends, which causes it to perform poorly on new data. By evaluating the performance of the model on a separate test set, a better estimate is returned."
   ]
  },
  {
   "cell_type": "code",
   "execution_count": 8,
   "id": "b76a146d",
   "metadata": {},
   "outputs": [],
   "source": [
    "# Import random split tool\n",
    "from sklearn.model_selection import train_test_split"
   ]
  },
  {
   "cell_type": "code",
   "execution_count": 9,
   "id": "e02c7712",
   "metadata": {},
   "outputs": [],
   "source": [
    "# Split data randomly into 75% train set and 25% test set\n",
    "x_train, x_test, y_train, y_test = train_test_split(hypertension_dataset, labels, test_size = 0.25)"
   ]
  },
  {
   "cell_type": "markdown",
   "id": "128668cc",
   "metadata": {},
   "source": [
    "<h1> ROC Curve and AUC </h1>\n",
    "\n",
    "ROC curve is a graphical plot that compares the true positive rate (TPR) and false positive rate (FPR) at different classification thresholds. TPR is the number of correctly predicted positive cases out of the total number of positive cases, while FPR is the number of incorrectly predicted positive cases to the total number of negative cases.\n",
    "\n",
    "AUC is a metric that summarises the performance of the classifier based on the ROC curve. It is the area under the ROC curve which measures the overall performance of the model across all possible classification thresholds. AUC is a measure of the prediction accuracy of the model which ranges from 0 to 1, with 0 representing a poor classifier and 1 representing a perfect classifier."
   ]
  },
  {
   "cell_type": "code",
   "execution_count": 10,
   "id": "087b1dbe",
   "metadata": {},
   "outputs": [],
   "source": [
    "from sklearn.ensemble import RandomForestClassifier\n",
    "rf = RandomForestClassifier(n_estimators=30, n_jobs=-1)\n",
    "from sklearn.metrics import roc_curve, auc\n",
    "from sklearn import metrics\n",
    "\n",
    "# Fit random forest model onto train set\n",
    "rf.fit(x_train, y_train)\n",
    "\n",
    "# Predicting value of hypertension from the independent variables\n",
    "y_train_pred = rf.predict(x_train)\n",
    "y_test_pred = rf.predict(x_test)"
   ]
  },
  {
   "cell_type": "code",
   "execution_count": 11,
   "id": "12c196ee",
   "metadata": {},
   "outputs": [
    {
     "name": "stdout",
     "output_type": "stream",
     "text": [
      "Accuracy for test set:  0.6941739990628417\n"
     ]
    }
   ],
   "source": [
    "# Print accuracy for test set\n",
    "print(\"Accuracy for test set: \", metrics.accuracy_score(y_test, y_test_pred))"
   ]
  },
  {
   "cell_type": "markdown",
   "id": "96af5e70",
   "metadata": {},
   "source": [
    "<h1>Confusion Matrix</h1>\n",
    "\n",
    "A confusion matrix is a useful visualisation tool to evaluate the performance of a classification model by summarising the predicted and actual values of the test data to determine the accuracy of its predictions.\n",
    "\n",
    "The TPR can be found by dividing the true positives identified by the total actual positives. The FPR can be found by divding the false positives identified by the total actual negatives. Comparing the TPR and FPR gives us an indication of how well the model can correctly identify whether an individual has hypertension based on the individual's factors."
   ]
  },
  {
   "cell_type": "code",
   "execution_count": 12,
   "id": "a603aa21",
   "metadata": {},
   "outputs": [
    {
     "data": {
      "text/plain": [
       "<AxesSubplot:>"
      ]
     },
     "execution_count": 12,
     "metadata": {},
     "output_type": "execute_result"
    },
    {
     "data": {
      "image/png": "[encoded data removed]",
      "text/plain": [
       "<Figure size 432x288 with 2 Axes>"
      ]
     },
     "metadata": {},
     "output_type": "display_data"
    }
   ],
   "source": [
    "# Plot the confusion matrix\n",
    "sb.heatmap(confusion_matrix(y_test, y_test_pred), \n",
    "           annot = True, fmt=\".0f\", annot_kws={\"size\": 18})"
   ]
  },
  {
   "cell_type": "code",
   "execution_count": 13,
   "id": "23f8b09b",
   "metadata": {},
   "outputs": [
    {
     "name": "stdout",
     "output_type": "stream",
     "text": [
      "Goodness of Fit of Model \t:Train Dataset\n",
      "True positive rate \t= 0.992212699290388\n",
      "False positive rate \t= 0.0010580242788729257\n",
      "\n",
      "Goodness of Fit of Model \t:Test Dataset\n",
      "True positive rate \t= 0.5099557522123894\n",
      "False positive rate \t= 0.19457202505219207\n"
     ]
    }
   ],
   "source": [
    "# Check the Goodness of Fit (on Train Data)\n",
    "tn_train, fp_train, fn_train, tp_train = confusion_matrix(y_train, y_train_pred).ravel()\n",
    "\n",
    "tpr_train = tp_train / (fn_train + tp_train)\n",
    "fpr_train = fp_train / (fp_train + tn_train)\n",
    "print(\"Goodness of Fit of Model \\t:Train Dataset\")\n",
    "print(\"True positive rate \\t=\", tpr_train)\n",
    "print(\"False positive rate \\t=\", fpr_train)\n",
    "\n",
    "print()\n",
    "# Check the Goodness of Fit (on Test Data)\n",
    "tn_test, fp_test, fn_test, tp_test = confusion_matrix(y_test, y_test_pred).ravel()\n",
    "\n",
    "tpr_test = tp_test / (fn_test + tp_test)\n",
    "fpr_test = fp_test / (fp_test + tn_test)\n",
    "print(\"Goodness of Fit of Model \\t:Test Dataset\")\n",
    "print(\"True positive rate \\t=\", tpr_test)\n",
    "print(\"False positive rate \\t=\", fpr_test)"
   ]
  },
  {
   "cell_type": "markdown",
   "id": "3505dd7d",
   "metadata": {},
   "source": [
    "<h1>Optimisation</h1>\n",
    "\n",
    "The Random Forest model can be further optimised by finding the optimal number of estimators that will give the highest AUC score. A suitable estimator value has to be chosen to maximise prediction accuracy yet minimise overfitting of the data. Increasing estimator values will be tried on the Random Forest model to finding the peak of the ROC curve, which will help us identify the highest AUC score that also gives us the optimal estimator value. "
   ]
  },
  {
   "cell_type": "code",
   "execution_count": 14,
   "id": "e1b77231",
   "metadata": {},
   "outputs": [],
   "source": [
    "# Finding accuracy at different estimator values to find optimal estimator\n",
    "estimator_level = [1, 2, 4, 8, 16, 32, 64, 128, 256]\n",
    "train_results = []\n",
    "test_results = []\n",
    "\n",
    "for estimator in estimator_level:\n",
    "    rf = RandomForestClassifier(n_estimators=estimator, n_jobs=-1)\n",
    "    rf.fit(x_train, y_train)\n",
    "    y_train_pred = rf.predict(x_train)\n",
    "    fpr, tpr, thresholds = roc_curve(y_train, y_train_pred)\n",
    "    accuracy = auc(fpr, tpr)\n",
    "    train_results.append(accuracy)\n",
    "    y_test_pred = rf.predict(x_test)\n",
    "    fpr, tpr, thresholds = roc_curve(y_test, y_test_pred)\n",
    "    accuracy = auc(fpr, tpr)\n",
    "    test_results.append(accuracy)"
   ]
  },
  {
   "cell_type": "code",
   "execution_count": 15,
   "id": "7b6b0728",
   "metadata": {},
   "outputs": [
    {
     "data": {
      "image/png": "[encoded data removed]",
      "text/plain": [
       "<Figure size 432x288 with 1 Axes>"
      ]
     },
     "metadata": {},
     "output_type": "display_data"
    }
   ],
   "source": [
    "# Plotting the curve\n",
    "from matplotlib.legend_handler import HandlerLine2D\n",
    "line1, = plt.plot(estimator_level, train_results, \"b\", label = \"Train Accuracy\")\n",
    "line2, = plt.plot(estimator_level, test_results, \"r\", label = \"Test Accuracy\")\n",
    "plt.legend(handler_map={line1: HandlerLine2D(numpoints=2)})\n",
    "plt.ylabel(\"AUC Score\")\n",
    "plt.xlabel(\"Estimator Level\")\n",
    "plt.show()"
   ]
  },
  {
   "cell_type": "markdown",
   "id": "ee09ae77",
   "metadata": {},
   "source": [
    "<h1>Analysis of Results</h1>\n",
    "\n",
    "From the curve, the AUC score for both the train and test set is optimal at an estimator level of 60. Beyond this level, AUC score does not improve much more for each increase in estimator level. Hence, 60 is a sufficient number of estimators. The Random Forest model is refitted with the new estimator level to find the optimal accuracy level."
   ]
  },
  {
   "cell_type": "code",
   "execution_count": 16,
   "id": "8c649f1b",
   "metadata": {},
   "outputs": [],
   "source": [
    "# Re-fitting model with optimal estimator value\n",
    "rf = RandomForestClassifier(n_estimators=60, n_jobs=-1)\n",
    "rf.fit(x_train, y_train)\n",
    "\n",
    "# Predicting values of hypertension again\n",
    "y_train_pred = rf.predict(x_train)\n",
    "y_test_pred = rf.predict(x_test)"
   ]
  },
  {
   "cell_type": "code",
   "execution_count": 17,
   "id": "7ad064eb",
   "metadata": {},
   "outputs": [
    {
     "name": "stdout",
     "output_type": "stream",
     "text": [
      "Accuracy for test set:  0.7014109439266933\n"
     ]
    }
   ],
   "source": [
    "# Generating accuracy for test set\n",
    "print(\"Accuracy for test set: \", metrics.accuracy_score(y_test, y_test_pred))"
   ]
  },
  {
   "cell_type": "code",
   "execution_count": 18,
   "id": "2afd75d8",
   "metadata": {},
   "outputs": [
    {
     "data": {
      "text/plain": [
       "<AxesSubplot:>"
      ]
     },
     "execution_count": 18,
     "metadata": {},
     "output_type": "execute_result"
    },
    {
     "data": {
      "image/png": "[encoded data removed]",
      "text/plain": [
       "<Figure size 432x288 with 2 Axes>"
      ]
     },
     "metadata": {},
     "output_type": "display_data"
    }
   ],
   "source": [
    "# Print confusion matrix\n",
    "sb.heatmap(confusion_matrix(y_test, y_test_pred), \n",
    "           annot = True, fmt=\".0f\", annot_kws={\"size\": 18})"
   ]
  },
  {
   "cell_type": "code",
   "execution_count": 19,
   "id": "8360f4cf",
   "metadata": {},
   "outputs": [
    {
     "name": "stdout",
     "output_type": "stream",
     "text": [
      "Goodness of Fit of Model \t:Train Dataset\n",
      "True positive rate \t= 0.996820569532762\n",
      "False positive rate \t= 0.0005846976277981958\n",
      "\n",
      "Goodness of Fit of Model \t:Test Dataset\n",
      "True positive rate \t= 0.5295907079646017\n",
      "False positive rate \t= 0.19482254697286014\n"
     ]
    }
   ],
   "source": [
    "# Check the Goodness of Fit (on Train Data)\n",
    "tn_train, fp_train, fn_train, tp_train = confusion_matrix(y_train, y_train_pred).ravel()\n",
    "\n",
    "tpr_train = tp_train / (fn_train + tp_train)\n",
    "fpr_train = fp_train / (fp_train + tn_train)\n",
    "print(\"Goodness of Fit of Model \\t:Train Dataset\")\n",
    "print(\"True positive rate \\t=\", tpr_train)\n",
    "print(\"False positive rate \\t=\", fpr_train)\n",
    "\n",
    "print()\n",
    "# Check the Goodness of Fit (on Test Data)\n",
    "tn_test, fp_test, fn_test, tp_test = confusion_matrix(y_test, y_test_pred).ravel()\n",
    "\n",
    "tpr_test = tp_test / (fn_test + tp_test)\n",
    "fpr_test = fp_test / (fp_test + tn_test)\n",
    "print(\"Goodness of Fit of Model \\t:Test Dataset\")\n",
    "print(\"True positive rate \\t=\", tpr_test)\n",
    "print(\"False positive rate \\t=\", fpr_test)"
   ]
  },
  {
   "cell_type": "markdown",
   "id": "d89920e0",
   "metadata": {},
   "source": [
    "<h1>Final Prediction Accuracy</h1>\n",
    "\n",
    "The initial TPR (0.50996) of the test set and FPR (0.19457) has been improved in the final TPR (0.52959) and FPR (0.19482). There is an increase in TPR by 0.01963 and a slight increase in FPR by 0.00025. Although the FPR increased slightly, this is outweighed by the increase in TPR. Identifying true positives is more important than false positives as correctly diagnosing hypertension is important for treatment. Hence after optimisation, the model is able to correctly identify more true positives.\n",
    "\n",
    "The accuracy of the test set using an estimator value of 60 is 0.70141, which is slightly higher than the initial estimator value of 30 which gives 0.69417. There is an increase in accuracy but only by a small amount of 0.00724. This means that the independent variables chosen were significantly correlated with hypertension from the start. Hence, after adjusting the number of estimators, the Random Forest model can correctly identify individuals with hypertension and individuals without hypertension 70.1% of the time, which is quite a high accuracy level. \n",
    "\n",
    "However, other models can still be explored to further improve the accuracy of prediction. Next, we wil analyse the data using the Logistic Regression model."
   ]
  },
  {
   "cell_type": "code",
   "execution_count": null,
   "id": "8ea61306",
   "metadata": {},
   "outputs": [],
   "source": []
  }
 ],
 "metadata": {
  "kernelspec": {
   "display_name": "Python 3 (ipykernel)",
   "language": "python",
   "name": "python3"
  },
  "language_info": {
   "codemirror_mode": {
    "name": "ipython",
    "version": 3
   },
   "file_extension": ".py",
   "mimetype": "text/x-python",
   "name": "python",
   "nbconvert_exporter": "python",
   "pygments_lexer": "ipython3",
   "version": "3.9.13"
  }
 },
 "nbformat": 4,
 "nbformat_minor": 5
}
