{
 "cells": [
  {
   "cell_type": "markdown",
   "id": "cf19882a",
   "metadata": {},
   "source": [
    "<h1>Logistic Regression</h1>\n",
    "\n",
    "Logistic Regression is a statistical method used in machine learning to predict the positive or negative value of a dependent variable based on one or more independent variables. In Logistic Regression, the dependent variable is modeled using the logistic function, which maps continuous inputs to a binary output.\n",
    "\n",
    "The Logistic Regression model estimates the coefficients of the independent variables that maximise the likelihood of the observed data given the model parameters. The model is trained to minimise the difference between the predicted probabilities and the actual binary outcomes of the data. A threshold can also be set on the predicted probabilities. Any probability greater than the threshold is classified as positive and any probability less than the threshold is classified as negative.\n",
    "\n",
    "Since our predictor variable is a categorical variable and our data set contains mostly categorical variables with 4 numeric and 7 categorical independent variables, a Logistic Regression model is ideal compared to a Linear Regression model which predicts a numeric output. Finally, Logistic Regression can handle large datasets similar to ours with many predictor variables and observations."
   ]
  },
  {
   "cell_type": "code",
   "execution_count": 1,
   "id": "7b4f99c6",
   "metadata": {},
   "outputs": [],
   "source": [
    "# Basic Libraries\n",
    "import numpy as np\n",
    "import pandas as pd\n",
    "import seaborn as sb\n",
    "import matplotlib.pyplot as plt # we only need pyplot\n",
    "sb.set() # set the default Seaborn style for graphics\n",
    "from sklearn.datasets import make_classification\n",
    "from sklearn.linear_model import LogisticRegression\n",
    "from sklearn.model_selection import train_test_split\n",
    "from sklearn.metrics import confusion_matrix"
   ]
  },
  {
   "cell_type": "code",
   "execution_count": 2,
   "id": "11a2e270",
   "metadata": {},
   "outputs": [
    {
     "data": {
      "text/html": [
       "<div>\n",
       "<style scoped>\n",
       "    .dataframe tbody tr th:only-of-type {\n",
       "        vertical-align: middle;\n",
       "    }\n",
       "\n",
       "    .dataframe tbody tr th {\n",
       "        vertical-align: top;\n",
       "    }\n",
       "\n",
       "    .dataframe thead th {\n",
       "        text-align: right;\n",
       "    }\n",
       "</style>\n",
       "<table border=\"1\" class=\"dataframe\">\n",
       "  <thead>\n",
       "    <tr style=\"text-align: right;\">\n",
       "      <th></th>\n",
       "      <th>Unnamed: 0</th>\n",
       "      <th>_TOTINDA</th>\n",
       "      <th>_BMI5</th>\n",
       "      <th>DROCDY3_</th>\n",
       "      <th>AVEDRNK3</th>\n",
       "      <th>_RFBING5</th>\n",
       "      <th>CHOLMED3</th>\n",
       "      <th>FRNCHDA_</th>\n",
       "      <th>FRUTDA2_</th>\n",
       "      <th>FTJUDA2_</th>\n",
       "      <th>...</th>\n",
       "      <th>DIABETE4</th>\n",
       "      <th>_RFCHOL3</th>\n",
       "      <th>_MICHD</th>\n",
       "      <th>_EDUCAG</th>\n",
       "      <th>_CASTHM1</th>\n",
       "      <th>_RFSMOK3</th>\n",
       "      <th>_DRDXAR3</th>\n",
       "      <th>_IMPRACE</th>\n",
       "      <th>_AGE80</th>\n",
       "      <th>AlchoIntake</th>\n",
       "    </tr>\n",
       "  </thead>\n",
       "  <tbody>\n",
       "    <tr>\n",
       "      <th>0</th>\n",
       "      <td>3</td>\n",
       "      <td>Yes</td>\n",
       "      <td>33.47</td>\n",
       "      <td>14.0</td>\n",
       "      <td>3.0</td>\n",
       "      <td>Yes</td>\n",
       "      <td>No</td>\n",
       "      <td>0.57</td>\n",
       "      <td>0.71</td>\n",
       "      <td>71.0</td>\n",
       "      <td>...</td>\n",
       "      <td>Yes</td>\n",
       "      <td>Yes</td>\n",
       "      <td>No</td>\n",
       "      <td>Graduated High School</td>\n",
       "      <td>No</td>\n",
       "      <td>No</td>\n",
       "      <td>No</td>\n",
       "      <td>White</td>\n",
       "      <td>62.0</td>\n",
       "      <td>2.94</td>\n",
       "    </tr>\n",
       "    <tr>\n",
       "      <th>1</th>\n",
       "      <td>9</td>\n",
       "      <td>Yes</td>\n",
       "      <td>39.94</td>\n",
       "      <td>10.0</td>\n",
       "      <td>2.0</td>\n",
       "      <td>No</td>\n",
       "      <td>Yes</td>\n",
       "      <td>0.29</td>\n",
       "      <td>0.57</td>\n",
       "      <td>0.0</td>\n",
       "      <td>...</td>\n",
       "      <td>No</td>\n",
       "      <td>No</td>\n",
       "      <td>No</td>\n",
       "      <td>Graduated High School</td>\n",
       "      <td>No</td>\n",
       "      <td>No</td>\n",
       "      <td>Yes</td>\n",
       "      <td>White</td>\n",
       "      <td>65.0</td>\n",
       "      <td>1.40</td>\n",
       "    </tr>\n",
       "    <tr>\n",
       "      <th>2</th>\n",
       "      <td>22</td>\n",
       "      <td>No</td>\n",
       "      <td>35.87</td>\n",
       "      <td>13.0</td>\n",
       "      <td>2.0</td>\n",
       "      <td>No</td>\n",
       "      <td>Yes</td>\n",
       "      <td>0.13</td>\n",
       "      <td>0.20</td>\n",
       "      <td>3.0</td>\n",
       "      <td>...</td>\n",
       "      <td>No</td>\n",
       "      <td>Yes</td>\n",
       "      <td>No</td>\n",
       "      <td>Graduated High School</td>\n",
       "      <td>No</td>\n",
       "      <td>Yes</td>\n",
       "      <td>No</td>\n",
       "      <td>White</td>\n",
       "      <td>68.0</td>\n",
       "      <td>1.82</td>\n",
       "    </tr>\n",
       "    <tr>\n",
       "      <th>3</th>\n",
       "      <td>49</td>\n",
       "      <td>Yes</td>\n",
       "      <td>22.24</td>\n",
       "      <td>3.0</td>\n",
       "      <td>1.0</td>\n",
       "      <td>No</td>\n",
       "      <td>Yes</td>\n",
       "      <td>0.14</td>\n",
       "      <td>0.71</td>\n",
       "      <td>0.0</td>\n",
       "      <td>...</td>\n",
       "      <td>Yes</td>\n",
       "      <td>Yes</td>\n",
       "      <td>Yes</td>\n",
       "      <td>Graduated High School</td>\n",
       "      <td>No</td>\n",
       "      <td>No</td>\n",
       "      <td>Yes</td>\n",
       "      <td>White</td>\n",
       "      <td>77.0</td>\n",
       "      <td>0.21</td>\n",
       "    </tr>\n",
       "    <tr>\n",
       "      <th>4</th>\n",
       "      <td>54</td>\n",
       "      <td>No</td>\n",
       "      <td>25.79</td>\n",
       "      <td>10.0</td>\n",
       "      <td>1.0</td>\n",
       "      <td>No</td>\n",
       "      <td>No</td>\n",
       "      <td>0.29</td>\n",
       "      <td>0.29</td>\n",
       "      <td>13.0</td>\n",
       "      <td>...</td>\n",
       "      <td>No</td>\n",
       "      <td>Yes</td>\n",
       "      <td>No</td>\n",
       "      <td>Attended College or Technical School</td>\n",
       "      <td>No</td>\n",
       "      <td>No</td>\n",
       "      <td>Yes</td>\n",
       "      <td>White</td>\n",
       "      <td>80.0</td>\n",
       "      <td>0.70</td>\n",
       "    </tr>\n",
       "  </tbody>\n",
       "</table>\n",
       "<p>5 rows × 24 columns</p>\n",
       "</div>"
      ],
      "text/plain": [
       "   Unnamed: 0 _TOTINDA  _BMI5  DROCDY3_  AVEDRNK3 _RFBING5 CHOLMED3  FRNCHDA_  \\\n",
       "0           3      Yes  33.47      14.0       3.0      Yes       No      0.57   \n",
       "1           9      Yes  39.94      10.0       2.0       No      Yes      0.29   \n",
       "2          22       No  35.87      13.0       2.0       No      Yes      0.13   \n",
       "3          49      Yes  22.24       3.0       1.0       No      Yes      0.14   \n",
       "4          54       No  25.79      10.0       1.0       No       No      0.29   \n",
       "\n",
       "   FRUTDA2_  FTJUDA2_  ...  DIABETE4  _RFCHOL3  _MICHD  \\\n",
       "0      0.71      71.0  ...       Yes       Yes      No   \n",
       "1      0.57       0.0  ...        No        No      No   \n",
       "2      0.20       3.0  ...        No       Yes      No   \n",
       "3      0.71       0.0  ...       Yes       Yes     Yes   \n",
       "4      0.29      13.0  ...        No       Yes      No   \n",
       "\n",
       "                                _EDUCAG _CASTHM1 _RFSMOK3 _DRDXAR3 _IMPRACE  \\\n",
       "0                 Graduated High School       No       No       No    White   \n",
       "1                 Graduated High School       No       No      Yes    White   \n",
       "2                 Graduated High School       No      Yes       No    White   \n",
       "3                 Graduated High School       No       No      Yes    White   \n",
       "4  Attended College or Technical School       No       No      Yes    White   \n",
       "\n",
       "  _AGE80 AlchoIntake  \n",
       "0   62.0        2.94  \n",
       "1   65.0        1.40  \n",
       "2   68.0        1.82  \n",
       "3   77.0        0.21  \n",
       "4   80.0        0.70  \n",
       "\n",
       "[5 rows x 24 columns]"
      ]
     },
     "execution_count": 2,
     "metadata": {},
     "output_type": "execute_result"
    }
   ],
   "source": [
    "# Loading cleaned data set\n",
    "hypertension = pd.read_csv('hypertension.csv')\n",
    "hypertension.head()"
   ]
  },
  {
   "cell_type": "markdown",
   "id": "4ba2a84d",
   "metadata": {},
   "source": [
    "<h1>Variables</h1>\n",
    "\n",
    "From our Exploratory Data Analysis, a total of 4 numeric and 7 categorical variables that are significantly correlated with hypertension were identified. For Logistic Regression, categorical values (strings) have to be converted into numerical values to be processed."
   ]
  },
  {
   "cell_type": "code",
   "execution_count": 3,
   "id": "37cae3fe",
   "metadata": {},
   "outputs": [
    {
     "data": {
      "text/html": [
       "<div>\n",
       "<style scoped>\n",
       "    .dataframe tbody tr th:only-of-type {\n",
       "        vertical-align: middle;\n",
       "    }\n",
       "\n",
       "    .dataframe tbody tr th {\n",
       "        vertical-align: top;\n",
       "    }\n",
       "\n",
       "    .dataframe thead th {\n",
       "        text-align: right;\n",
       "    }\n",
       "</style>\n",
       "<table border=\"1\" class=\"dataframe\">\n",
       "  <thead>\n",
       "    <tr style=\"text-align: right;\">\n",
       "      <th></th>\n",
       "      <th>_TOTINDA</th>\n",
       "      <th>_BMI5</th>\n",
       "      <th>AlchoIntake</th>\n",
       "      <th>CHOLMED3</th>\n",
       "      <th>_RFHYPE6</th>\n",
       "      <th>DIABETE4</th>\n",
       "      <th>_RFCHOL3</th>\n",
       "      <th>_MICHD</th>\n",
       "      <th>_EDUCAG</th>\n",
       "      <th>_DRDXAR3</th>\n",
       "      <th>_AGE80</th>\n",
       "    </tr>\n",
       "  </thead>\n",
       "  <tbody>\n",
       "    <tr>\n",
       "      <th>0</th>\n",
       "      <td>Yes</td>\n",
       "      <td>33.47</td>\n",
       "      <td>2.94</td>\n",
       "      <td>No</td>\n",
       "      <td>Yes</td>\n",
       "      <td>Yes</td>\n",
       "      <td>Yes</td>\n",
       "      <td>No</td>\n",
       "      <td>Graduated High School</td>\n",
       "      <td>No</td>\n",
       "      <td>62.0</td>\n",
       "    </tr>\n",
       "    <tr>\n",
       "      <th>1</th>\n",
       "      <td>Yes</td>\n",
       "      <td>39.94</td>\n",
       "      <td>1.40</td>\n",
       "      <td>Yes</td>\n",
       "      <td>Yes</td>\n",
       "      <td>No</td>\n",
       "      <td>No</td>\n",
       "      <td>No</td>\n",
       "      <td>Graduated High School</td>\n",
       "      <td>Yes</td>\n",
       "      <td>65.0</td>\n",
       "    </tr>\n",
       "    <tr>\n",
       "      <th>2</th>\n",
       "      <td>No</td>\n",
       "      <td>35.87</td>\n",
       "      <td>1.82</td>\n",
       "      <td>Yes</td>\n",
       "      <td>Yes</td>\n",
       "      <td>No</td>\n",
       "      <td>Yes</td>\n",
       "      <td>No</td>\n",
       "      <td>Graduated High School</td>\n",
       "      <td>No</td>\n",
       "      <td>68.0</td>\n",
       "    </tr>\n",
       "    <tr>\n",
       "      <th>3</th>\n",
       "      <td>Yes</td>\n",
       "      <td>22.24</td>\n",
       "      <td>0.21</td>\n",
       "      <td>Yes</td>\n",
       "      <td>Yes</td>\n",
       "      <td>Yes</td>\n",
       "      <td>Yes</td>\n",
       "      <td>Yes</td>\n",
       "      <td>Graduated High School</td>\n",
       "      <td>Yes</td>\n",
       "      <td>77.0</td>\n",
       "    </tr>\n",
       "    <tr>\n",
       "      <th>4</th>\n",
       "      <td>No</td>\n",
       "      <td>25.79</td>\n",
       "      <td>0.70</td>\n",
       "      <td>No</td>\n",
       "      <td>Yes</td>\n",
       "      <td>No</td>\n",
       "      <td>Yes</td>\n",
       "      <td>No</td>\n",
       "      <td>Attended College or Technical School</td>\n",
       "      <td>Yes</td>\n",
       "      <td>80.0</td>\n",
       "    </tr>\n",
       "  </tbody>\n",
       "</table>\n",
       "</div>"
      ],
      "text/plain": [
       "  _TOTINDA  _BMI5  AlchoIntake CHOLMED3 _RFHYPE6 DIABETE4 _RFCHOL3 _MICHD  \\\n",
       "0      Yes  33.47         2.94       No      Yes      Yes      Yes     No   \n",
       "1      Yes  39.94         1.40      Yes      Yes       No       No     No   \n",
       "2       No  35.87         1.82      Yes      Yes       No      Yes     No   \n",
       "3      Yes  22.24         0.21      Yes      Yes      Yes      Yes    Yes   \n",
       "4       No  25.79         0.70       No      Yes       No      Yes     No   \n",
       "\n",
       "                                _EDUCAG _DRDXAR3  _AGE80  \n",
       "0                 Graduated High School       No    62.0  \n",
       "1                 Graduated High School      Yes    65.0  \n",
       "2                 Graduated High School       No    68.0  \n",
       "3                 Graduated High School      Yes    77.0  \n",
       "4  Attended College or Technical School      Yes    80.0  "
      ]
     },
     "execution_count": 3,
     "metadata": {},
     "output_type": "execute_result"
    }
   ],
   "source": [
    "# Creating dataframe with only significant independent variables\n",
    "hypertension_dataset = pd.DataFrame(hypertension[['_TOTINDA','_BMI5','AlchoIntake','CHOLMED3','_RFHYPE6','DIABETE4','_RFCHOL3','_MICHD','_EDUCAG','_DRDXAR3','_AGE80']])\n",
    "hypertension_dataset.head()"
   ]
  },
  {
   "cell_type": "code",
   "execution_count": 4,
   "id": "1b124d82",
   "metadata": {},
   "outputs": [],
   "source": [
    "# Changing categorical 'yes'/'no' to numeric values for Logistic Regression\n",
    "hypertension_dataset.replace(\"Yes\", 1, inplace = True)\n",
    "hypertension_dataset.replace(\"No\", 0, inplace = True)"
   ]
  },
  {
   "cell_type": "code",
   "execution_count": 5,
   "id": "6097dfb3",
   "metadata": {},
   "outputs": [],
   "source": [
    "# Decode _EDUCAG\n",
    "hypertension_dataset.replace(\"Did not graduate High School\", 1, inplace = True)\n",
    "hypertension_dataset.replace(\"Graduated High School\", 2, inplace = True)\n",
    "hypertension_dataset.replace(\"Attended College or Technical School\", 3, inplace = True)\n",
    "hypertension_dataset.replace(\"Graduated from College or Technical School\", 4, inplace = True)"
   ]
  },
  {
   "cell_type": "code",
   "execution_count": 6,
   "id": "f50328dc",
   "metadata": {},
   "outputs": [
    {
     "name": "stdout",
     "output_type": "stream",
     "text": [
      "<class 'pandas.core.frame.DataFrame'>\n",
      "RangeIndex: 93403 entries, 0 to 93402\n",
      "Data columns (total 11 columns):\n",
      " #   Column       Non-Null Count  Dtype  \n",
      "---  ------       --------------  -----  \n",
      " 0   _TOTINDA     93403 non-null  int64  \n",
      " 1   _BMI5        93403 non-null  float64\n",
      " 2   AlchoIntake  93403 non-null  float64\n",
      " 3   CHOLMED3     93403 non-null  int64  \n",
      " 4   _RFHYPE6     93403 non-null  int64  \n",
      " 5   DIABETE4     93403 non-null  int64  \n",
      " 6   _RFCHOL3     93403 non-null  int64  \n",
      " 7   _MICHD       93403 non-null  int64  \n",
      " 8   _EDUCAG      93403 non-null  int64  \n",
      " 9   _DRDXAR3     93403 non-null  int64  \n",
      " 10  _AGE80       93403 non-null  float64\n",
      "dtypes: float64(3), int64(8)\n",
      "memory usage: 7.8 MB\n"
     ]
    }
   ],
   "source": [
    "# Check if variable data has been changed to type int\n",
    "hypertension_dataset.info()"
   ]
  },
  {
   "cell_type": "code",
   "execution_count": 7,
   "id": "7627e94f",
   "metadata": {},
   "outputs": [],
   "source": [
    "# Rename the reponse variable column to \"Hypertension\" to make it more intuitive\n",
    "hypertension_dataset.rename(columns={\"_RFHYPE6\": \"Hypertension\"}, inplace=True) \n",
    "\n",
    "# Isolate dependent variable to fit into the model\n",
    "labels = hypertension_dataset.pop(\"Hypertension\")"
   ]
  },
  {
   "cell_type": "markdown",
   "id": "6aff6823",
   "metadata": {},
   "source": [
    "<h1>Train and Test Set</h1>\n",
    "\n",
    "Our data set will be randomly split into two sets with 75% of the data forming the train set and the remaining 25% forming the test set.\n",
    "\n",
    "The train set will be fitted into the parameters of Logistic Regression where the coefficients of the model are adjusted to minimise the difference between the predicted and the actual values for hypertension based on the given independent variables.\n",
    "\n",
    "The test set is then used to evaluate the performance of the trained model to simulate how well the model can make predictions for hypertension on new and unseen data.\n",
    "\n",
    "The train and test sets are kept completely separate to avoid overfitting the model to the train data. Overfitting occurs when the model makes predictions based on memory of data in the train set rather than trends, which causes it to perform poorly on new data. By evaluating the performance of the model on a separate test set, a better estimate is returned."
   ]
  },
  {
   "cell_type": "code",
   "execution_count": 8,
   "id": "75f3f29e",
   "metadata": {},
   "outputs": [],
   "source": [
    "# Split data randomly into 75% train set and 25% test set\n",
    "x_train, x_test, y_train, y_test = train_test_split(hypertension_dataset, labels, test_size = 0.25)"
   ]
  },
  {
   "cell_type": "code",
   "execution_count": 9,
   "id": "0ffd9fa4",
   "metadata": {},
   "outputs": [
    {
     "data": {
      "text/plain": [
       "LogisticRegression(max_iter=100000)"
      ]
     },
     "execution_count": 9,
     "metadata": {},
     "output_type": "execute_result"
    }
   ],
   "source": [
    "# Create a Logistic Regression Object, perform Logistic Regression\n",
    "log_reg = LogisticRegression(max_iter=100000)\n",
    "log_reg.fit(x_train, y_train)"
   ]
  },
  {
   "cell_type": "code",
   "execution_count": 10,
   "id": "627f2a3b",
   "metadata": {},
   "outputs": [
    {
     "name": "stdout",
     "output_type": "stream",
     "text": [
      "[[-0.135918    0.09297924  0.0294223   0.59427305  0.64529688  0.382973\n",
      "   0.63733095 -0.12736125  0.21814133  0.03896373]]\n",
      "[-5.46779764]\n"
     ]
    }
   ],
   "source": [
    "# Show to Coeficient and Intercept\n",
    "print(log_reg.coef_)\n",
    "print(log_reg.intercept_)"
   ]
  },
  {
   "cell_type": "code",
   "execution_count": 11,
   "id": "2ce82301",
   "metadata": {},
   "outputs": [],
   "source": [
    "# Perform prediction using the train dataset\n",
    "y_train_pred = log_reg.predict(x_train)"
   ]
  },
  {
   "cell_type": "code",
   "execution_count": 12,
   "id": "d0a729ac",
   "metadata": {},
   "outputs": [],
   "source": [
    "# Perform prediction using the test dataset\n",
    "y_test_pred = log_reg.predict(x_test)"
   ]
  },
  {
   "cell_type": "markdown",
   "id": "70c7aae5",
   "metadata": {},
   "source": [
    "<h1>Confusion Matrix</h1>\n",
    "\n",
    "The confusion matrix allows us to evaluate the performance of a classification model by summarising the predicted and actual values of the test data to determine the accuracy of its predictions.\n",
    "\n",
    "The TPR can be found by dividing the true positives identified by the total actual positives. The FPR can be found by divding the false positives identified by the total actual negatives. Comparing the TPR and FPR gives us an indication of how well the model can correctly identify whether an individual has hypertension based on the individual's factors.\n",
    "\n",
    "For Logistic Regression, the accuracy of the model can be determined by how well the model is able to correctly identify its predictions. This can be found by dividing the sum of true positives and true negatives by the total number of predictions, which gives us the rate of correct predictions on the test set."
   ]
  },
  {
   "cell_type": "code",
   "execution_count": 13,
   "id": "ca3cee59",
   "metadata": {},
   "outputs": [
    {
     "data": {
      "text/plain": [
       "<AxesSubplot:>"
      ]
     },
     "execution_count": 13,
     "metadata": {},
     "output_type": "execute_result"
    },
    {
     "data": {
      "image/png": "[encoded data removed]",
      "text/plain": [
       "<Figure size 432x288 with 2 Axes>"
      ]
     },
     "metadata": {},
     "output_type": "display_data"
    }
   ],
   "source": [
    "# Show the Confusion Matrix\n",
    "sb.heatmap(confusion_matrix(y_test, y_test_pred), \n",
    "           annot = True, fmt=\".0f\", annot_kws={\"size\": 18})"
   ]
  },
  {
   "cell_type": "code",
   "execution_count": 14,
   "id": "441de11f",
   "metadata": {
    "scrolled": true
   },
   "outputs": [
    {
     "name": "stdout",
     "output_type": "stream",
     "text": [
      "Goodness of Fit of Model \t:Train Dataset\n",
      "True positive rate \t= 0.5299297134471306\n",
      "False positive rate \t= 0.15526065492096564\n",
      "Accuracy of train \t= 0.7283732084737052\n",
      "\n",
      "Goodness of Fit of Model \t:Test Dataset\n",
      "True positive rate \t= 0.5238923683600093\n",
      "False positive rate \t= 0.14882205173467308\n",
      "Accuracy of test \t= 0.7303327480621815\n"
     ]
    }
   ],
   "source": [
    "# Check the Goodness of Fit (on Train Data)\n",
    "tn_train, fp_train, fn_train, tp_train = confusion_matrix(y_train, y_train_pred).ravel()\n",
    "\n",
    "tpr_train = tp_train / (fn_train + tp_train)\n",
    "fpr_train = fp_train / (fp_train + tn_train)\n",
    "accuracy_train = (tp_train + tn_train)/(tp_train + tn_train + fp_train + fn_train)\n",
    "print(\"Goodness of Fit of Model \\t:Train Dataset\")\n",
    "print(\"True positive rate \\t=\", tpr_train)\n",
    "print(\"False positive rate \\t=\", fpr_train)\n",
    "print(\"Accuracy of train \\t=\", accuracy_train)\n",
    "\n",
    "print()\n",
    "# Check the Goodness of Fit (on Test Data)\n",
    "tn_test, fp_test, fn_test, tp_test = confusion_matrix(y_test, y_test_pred).ravel()\n",
    "\n",
    "tpr_test = tp_test / (fn_test + tp_test)\n",
    "fpr_test = fp_test / (fp_test + tn_test)\n",
    "accuracy_test = (tp_test + tn_test)/(tp_test + tn_test + fp_test + fn_test)\n",
    "print(\"Goodness of Fit of Model \\t:Test Dataset\")\n",
    "print(\"True positive rate \\t=\", tpr_test)\n",
    "print(\"False positive rate \\t=\", fpr_test)\n",
    "print(\"Accuracy of test \\t=\", accuracy_test)"
   ]
  },
  {
   "cell_type": "markdown",
   "id": "f6553120",
   "metadata": {},
   "source": [
    "<h1>Hyperparameter Optimisation</h1>\n",
    "\n",
    "The Logistic Regression model can be further optimised by setting certain parameters that are not learned from the data. These parameters are known as hyperparameters. Using GridSearch, the most suitable hyperparameters for the model can be found by trial and error to find the best values.\n",
    "\n",
    "The hyperparameters we considered are:\n",
    "\n",
    "1. <b>C</b>: The strength of the regularisation applied to the model. Regularisation helps to prevent overfitting by penalising large coefficients in the model. A high value of C reduces the amount of regularisation and may lead to overfitting, while a low value of C increases the regularisation and may lead to underfitting. A range of C values from 0.1 to 1 will be tested to ensure sufficient breadth and low C value.\n",
    "\n",
    "\n",
    "2. <b>penalty</b>: There are two penalty hyperparameters L1 (Lasso) and L2 (Ridge). L1 is used to reduce the number of input variables, while L2 is used when all the variables are important and we want to avoid overfitting. Since we have identified only the variables with significant correlation to hypertension, only L2 penalty will be used.\n",
    "\n",
    "\n",
    "3. <b>solver</b>: There are different solvers that can be used to optimise the Logistic Regression model. The choice of solver can affect the convergence speed and accuracy of the model. \"lbfgs\" is used for its good convergence properties, efficient use of memory, and ability to handle large datasets. \"sag\" optimises the loss function by updating the coefficients based on a randomly selected subset of the training datawill be tested, and is efficient for large datasets. These two solvers are suitable as our dataset with over 70,000 data points is considered large.\n",
    "\n",
    "\n",
    "4. <b>max_iter</b>: The max number of iterations needed for the Logistic Regression to converge and produce an accurate solution. A sufficiently large value for the max iteration hyperparameter is needed to ensure that the algorithm has enough time to converge. However, a value too large can cause performance or computational issues, and hence an optimal number of iterations is needed."
   ]
  },
  {
   "cell_type": "code",
   "execution_count": 22,
   "id": "6cdda96a",
   "metadata": {},
   "outputs": [],
   "source": [
    "# Specify the chosen hyperparameters for the Logistic Regression\n",
    "param_grid = [    \n",
    "    {'penalty' : ['l2'],\n",
    "    'C' : np.arange(0.1, 1.0, 0.1),\n",
    "    'solver' : ['lbfgs','sag'],\n",
    "    'max_iter' : [500, 1000, 5000, 10000]\n",
    "    }\n",
    "]"
   ]
  },
  {
   "cell_type": "code",
   "execution_count": 23,
   "id": "66ba2b60",
   "metadata": {},
   "outputs": [],
   "source": [
    "# Grid search builds a model for every combination of the hyperparameters specified and evaluates each model\n",
    "# This gives us a comprehensive evaluation of the best hyperparameters to optimise prediction accuracy\n",
    "from sklearn.model_selection import GridSearchCV\n",
    "clf = GridSearchCV(log_reg, param_grid = param_grid, cv = 3, verbose=True, n_jobs=-1)"
   ]
  },
  {
   "cell_type": "code",
   "execution_count": 24,
   "id": "07420ced",
   "metadata": {},
   "outputs": [
    {
     "name": "stdout",
     "output_type": "stream",
     "text": [
      "Fitting 3 folds for each of 72 candidates, totalling 216 fits\n"
     ]
    }
   ],
   "source": [
    "# clf is used to store trained model values and find the best hyperparameter fit\n",
    "best_clf = clf.fit(x_train,y_train)"
   ]
  },
  {
   "cell_type": "code",
   "execution_count": 25,
   "id": "d26fe39d",
   "metadata": {},
   "outputs": [
    {
     "data": {
      "text/plain": [
       "LogisticRegression(C=0.9, max_iter=500)"
      ]
     },
     "execution_count": 25,
     "metadata": {},
     "output_type": "execute_result"
    }
   ],
   "source": [
    "# Find the best hyperparameters\n",
    "best_clf.best_estimator_"
   ]
  },
  {
   "cell_type": "markdown",
   "id": "a0846b9e",
   "metadata": {},
   "source": [
    "<h1>Final Logistic Regression Model</h1>\n",
    "\n",
    "We will fit the Logistic Regression model using the best hyperparameters (C=0.9, max_iter=500) to create our final model. The confusion matrix will be generated again and compared with the previous confusion matrix to identify if the new model is able to identify the test data more accurately. Finally, the accuracy of the old and new model will be compared to see if there is any significant improvement to the prediction accuracy after optimisation."
   ]
  },
  {
   "cell_type": "code",
   "execution_count": 26,
   "id": "396d4f6e",
   "metadata": {},
   "outputs": [
    {
     "data": {
      "text/plain": [
       "LogisticRegression(C=0.9, max_iter=500)"
      ]
     },
     "execution_count": 26,
     "metadata": {},
     "output_type": "execute_result"
    }
   ],
   "source": [
    "# Fit logistic regression model with best hyperparameters\n",
    "log_reg = LogisticRegression(C=0.9, max_iter=500)\n",
    "log_reg.fit(x_train, y_train)"
   ]
  },
  {
   "cell_type": "code",
   "execution_count": 27,
   "id": "cf5ef657",
   "metadata": {},
   "outputs": [
    {
     "data": {
      "text/plain": [
       "<AxesSubplot:>"
      ]
     },
     "execution_count": 27,
     "metadata": {},
     "output_type": "execute_result"
    },
    {
     "data": {
      "image/png": "[encoded data removed]",
      "text/plain": [
       "<Figure size 432x288 with 2 Axes>"
      ]
     },
     "metadata": {},
     "output_type": "display_data"
    }
   ],
   "source": [
    "# Perform prediction using the train dataset\n",
    "y_train_pred = log_reg.predict(x_train)\n",
    "\n",
    "# Perform prediction using the test dataset\n",
    "y_test_pred = log_reg.predict(x_test)\n",
    "\n",
    "# Show the Confusion Matrix\n",
    "sb.heatmap(confusion_matrix(y_test, y_test_pred), \n",
    "           annot = True, fmt=\".0f\", annot_kws={\"size\": 18})"
   ]
  },
  {
   "cell_type": "code",
   "execution_count": 28,
   "id": "e0848109",
   "metadata": {},
   "outputs": [
    {
     "name": "stdout",
     "output_type": "stream",
     "text": [
      "Goodness of Fit of Model \t:Train Dataset\n",
      "True positive rate \t= 0.5300841893875029\n",
      "False positive rate \t= 0.15530594682730195\n",
      "Accuracy of train \t= 0.728401758693542\n",
      "\n",
      "Goodness of Fit of Model \t:Test Dataset\n",
      "True positive rate \t= 0.524008350730689\n",
      "False positive rate \t= 0.14875415846289633\n",
      "Accuracy of test \t= 0.7304183974990365\n"
     ]
    }
   ],
   "source": [
    "# Check the Goodness of Fit (on Train Data)\n",
    "tn_train, fp_train, fn_train, tp_train = confusion_matrix(y_train, y_train_pred).ravel()\n",
    "\n",
    "tpr_train = tp_train / (fn_train + tp_train)\n",
    "fpr_train = fp_train / (fp_train + tn_train)\n",
    "accuracy_train = (tp_train + tn_train)/(tp_train + tn_train + fp_train + fn_train)\n",
    "print(\"Goodness of Fit of Model \\t:Train Dataset\")\n",
    "print(\"True positive rate \\t=\", tpr_train)\n",
    "print(\"False positive rate \\t=\", fpr_train)\n",
    "print(\"Accuracy of train \\t=\", accuracy_train)\n",
    "\n",
    "print()\n",
    "# Check the Goodness of Fit (on Test Data)\n",
    "tn_test, fp_test, fn_test, tp_test = confusion_matrix(y_test, y_test_pred).ravel()\n",
    "\n",
    "tpr_test = tp_test / (fn_test + tp_test)\n",
    "fpr_test = fp_test / (fp_test + tn_test)\n",
    "accuracy_test = (tp_test + tn_test)/(tp_test + tn_test + fp_test + fn_test)\n",
    "print(\"Goodness of Fit of Model \\t:Test Dataset\")\n",
    "print(\"True positive rate \\t=\", tpr_test)\n",
    "print(\"False positive rate \\t=\", fpr_test)\n",
    "print(\"Accuracy of test \\t=\", accuracy_test)"
   ]
  },
  {
   "cell_type": "markdown",
   "id": "cf5887dd",
   "metadata": {},
   "source": [
    "<h1>Final Prediction Accuracy</h1>\n",
    "\n",
    "The initial TPR (0.52389) of the test set and FPR (0.14882) has been improved in the final TPR (0.52401) and FPR (0.14875). There is an increase in TPR by 0.00012 and a decrease in FPR by 0.00007. Prediction accuracy on the test set has also improved from 0.73033 to 0.73042 by 0.00011. This means that after optimisation, the model is able to correctly identify more true positives and true negatives with greater accuracy. \n",
    "\n",
    "However, this is only a slight improvement and the tradeoff in computational power required does not justify the optimisation value. Our initial model is already good enough as it has a high prediction accuracy. Our final Logistic Regression model can correctly identify individuals with hypertension and individuals without hypertension 73.0% of the time."
   ]
  },
  {
   "cell_type": "code",
   "execution_count": null,
   "id": "9ea403a6",
   "metadata": {},
   "outputs": [],
   "source": []
  }
 ],
 "metadata": {
  "kernelspec": {
   "display_name": "Python 3 (ipykernel)",
   "language": "python",
   "name": "python3"
  },
  "language_info": {
   "codemirror_mode": {
    "name": "ipython",
    "version": 3
   },
   "file_extension": ".py",
   "mimetype": "text/x-python",
   "name": "python",
   "nbconvert_exporter": "python",
   "pygments_lexer": "ipython3",
   "version": "3.9.13"
  }
 },
 "nbformat": 4,
 "nbformat_minor": 5
}
